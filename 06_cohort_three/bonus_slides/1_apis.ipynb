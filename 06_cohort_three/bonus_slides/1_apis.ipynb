{
 "cells": [
  {
   "cell_type": "markdown",
   "metadata": {},
   "source": [
    "# APIs\n",
    "\n",
    "# What is a API?\n",
    "\n",
    "- API stands for Application Programming Interface\n",
    "- Allows software programs to communicate with each other\n",
    "- Provides structured way to communicate between applications and devices (expose data and functionality)\n",
    "- Allows other developers to access and integrate with an application without needing to understand complex implementation details\n",
    "\n",
    "# Have we used an API before?\n",
    "\n",
    "YES!!! We used numPy and soon, and later on in the program, we will use pandas."
   ]
  },
  {
   "cell_type": "markdown",
   "metadata": {},
   "source": [
    "## Exercise 1\n",
    "\n",
    "We will call the Open Meteo API!"
   ]
  },
  {
   "cell_type": "code",
   "execution_count": 1,
   "metadata": {},
   "outputs": [
    {
     "name": "stdout",
     "output_type": "stream",
     "text": [
      "{'latitude': 43.70455, 'longitude': -79.4046, 'generationtime_ms': 0.03695487976074219, 'utc_offset_seconds': 0, 'timezone': 'GMT', 'timezone_abbreviation': 'GMT', 'elevation': 175.0, 'hourly_units': {'time': 'iso8601', 'temperature_2m': '°C'}, 'hourly': {'time': ['2024-05-28T00:00', '2024-05-28T01:00', '2024-05-28T02:00', '2024-05-28T03:00', '2024-05-28T04:00', '2024-05-28T05:00', '2024-05-28T06:00', '2024-05-28T07:00', '2024-05-28T08:00', '2024-05-28T09:00', '2024-05-28T10:00', '2024-05-28T11:00', '2024-05-28T12:00', '2024-05-28T13:00', '2024-05-28T14:00', '2024-05-28T15:00', '2024-05-28T16:00', '2024-05-28T17:00', '2024-05-28T18:00', '2024-05-28T19:00', '2024-05-28T20:00', '2024-05-28T21:00', '2024-05-28T22:00', '2024-05-28T23:00', '2024-05-29T00:00', '2024-05-29T01:00', '2024-05-29T02:00', '2024-05-29T03:00', '2024-05-29T04:00', '2024-05-29T05:00', '2024-05-29T06:00', '2024-05-29T07:00', '2024-05-29T08:00', '2024-05-29T09:00', '2024-05-29T10:00', '2024-05-29T11:00', '2024-05-29T12:00', '2024-05-29T13:00', '2024-05-29T14:00', '2024-05-29T15:00', '2024-05-29T16:00', '2024-05-29T17:00', '2024-05-29T18:00', '2024-05-29T19:00', '2024-05-29T20:00', '2024-05-29T21:00', '2024-05-29T22:00', '2024-05-29T23:00', '2024-05-30T00:00', '2024-05-30T01:00', '2024-05-30T02:00', '2024-05-30T03:00', '2024-05-30T04:00', '2024-05-30T05:00', '2024-05-30T06:00', '2024-05-30T07:00', '2024-05-30T08:00', '2024-05-30T09:00', '2024-05-30T10:00', '2024-05-30T11:00', '2024-05-30T12:00', '2024-05-30T13:00', '2024-05-30T14:00', '2024-05-30T15:00', '2024-05-30T16:00', '2024-05-30T17:00', '2024-05-30T18:00', '2024-05-30T19:00', '2024-05-30T20:00', '2024-05-30T21:00', '2024-05-30T22:00', '2024-05-30T23:00', '2024-05-31T00:00', '2024-05-31T01:00', '2024-05-31T02:00', '2024-05-31T03:00', '2024-05-31T04:00', '2024-05-31T05:00', '2024-05-31T06:00', '2024-05-31T07:00', '2024-05-31T08:00', '2024-05-31T09:00', '2024-05-31T10:00', '2024-05-31T11:00', '2024-05-31T12:00', '2024-05-31T13:00', '2024-05-31T14:00', '2024-05-31T15:00', '2024-05-31T16:00', '2024-05-31T17:00', '2024-05-31T18:00', '2024-05-31T19:00', '2024-05-31T20:00', '2024-05-31T21:00', '2024-05-31T22:00', '2024-05-31T23:00', '2024-06-01T00:00', '2024-06-01T01:00', '2024-06-01T02:00', '2024-06-01T03:00', '2024-06-01T04:00', '2024-06-01T05:00', '2024-06-01T06:00', '2024-06-01T07:00', '2024-06-01T08:00', '2024-06-01T09:00', '2024-06-01T10:00', '2024-06-01T11:00', '2024-06-01T12:00', '2024-06-01T13:00', '2024-06-01T14:00', '2024-06-01T15:00', '2024-06-01T16:00', '2024-06-01T17:00', '2024-06-01T18:00', '2024-06-01T19:00', '2024-06-01T20:00', '2024-06-01T21:00', '2024-06-01T22:00', '2024-06-01T23:00', '2024-06-02T00:00', '2024-06-02T01:00', '2024-06-02T02:00', '2024-06-02T03:00', '2024-06-02T04:00', '2024-06-02T05:00', '2024-06-02T06:00', '2024-06-02T07:00', '2024-06-02T08:00', '2024-06-02T09:00', '2024-06-02T10:00', '2024-06-02T11:00', '2024-06-02T12:00', '2024-06-02T13:00', '2024-06-02T14:00', '2024-06-02T15:00', '2024-06-02T16:00', '2024-06-02T17:00', '2024-06-02T18:00', '2024-06-02T19:00', '2024-06-02T20:00', '2024-06-02T21:00', '2024-06-02T22:00', '2024-06-02T23:00', '2024-06-03T00:00', '2024-06-03T01:00', '2024-06-03T02:00', '2024-06-03T03:00', '2024-06-03T04:00', '2024-06-03T05:00', '2024-06-03T06:00', '2024-06-03T07:00', '2024-06-03T08:00', '2024-06-03T09:00', '2024-06-03T10:00', '2024-06-03T11:00', '2024-06-03T12:00', '2024-06-03T13:00', '2024-06-03T14:00', '2024-06-03T15:00', '2024-06-03T16:00', '2024-06-03T17:00', '2024-06-03T18:00', '2024-06-03T19:00', '2024-06-03T20:00', '2024-06-03T21:00', '2024-06-03T22:00', '2024-06-03T23:00'], 'temperature_2m': [18.5, 17.3, 16.6, 16.1, 15.8, 15.7, 15.4, 15.0, 14.8, 14.4, 14.4, 15.2, 15.8, 16.5, 16.8, 17.3, 17.5, 17.5, 18.3, 17.3, 18.7, 17.3, 17.9, 18.1, 17.1, 15.8, 15.0, 14.3, 13.5, 13.7, 13.0, 12.6, 12.4, 12.5, 12.6, 12.5, 12.2, 12.3, 13.6, 15.2, 15.3, 15.7, 16.2, 16.6, 16.9, 16.9, 16.4, 15.6, 13.9, 11.5, 10.1, 9.5, 9.2, 9.2, 9.2, 8.7, 8.4, 8.5, 7.2, 8.0, 9.1, 12.5, 14.4, 15.9, 16.8, 17.5, 18.0, 18.3, 18.3, 17.9, 17.1, 15.9, 14.8, 13.6, 12.7, 12.3, 11.3, 10.8, 10.6, 10.4, 10.1, 9.8, 9.4, 10.4, 12.4, 14.6, 16.7, 18.5, 19.9, 20.9, 21.6, 22.1, 22.2, 22.1, 21.5, 20.6, 19.1, 16.8, 15.6, 14.6, 13.8, 13.3, 12.8, 12.4, 12.0, 11.7, 11.6, 12.6, 14.8, 17.2, 19.1, 21.0, 22.3, 23.1, 23.2, 23.4, 22.7, 22.5, 21.2, 21.0, 19.8, 17.7, 17.0, 16.2, 15.9, 15.4, 15.5, 14.9, 14.2, 13.9, 14.3, 15.2, 16.4, 18.4, 20.6, 22.0, 21.6, 20.3, 19.5, 20.3, 21.7, 22.4, 21.8, 20.4, 19.3, 18.8, 18.4, 18.0, 17.5, 17.1, 16.6, 16.2, 15.8, 15.7, 16.1, 16.7, 17.7, 19.4, 21.4, 23.1, 24.3, 25.1, 25.6, 25.7, 25.4, 24.8, 23.9, 22.8]}}\n"
     ]
    }
   ],
   "source": [
    "import requests\n",
    "\n",
    "url = \"https://api.open-meteo.com/v1/forecast\"\n",
    "params = {\n",
    "  \"latitude\": 43.7001,\n",
    "  \"longitude\": -79.4163,\n",
    "  \"hourly\": \"temperature_2m\"\n",
    "}\n",
    "data = requests.get(url, params).json()\n",
    "\n",
    "print(data)\n"
   ]
  },
  {
   "cell_type": "markdown",
   "metadata": {},
   "source": [
    "# Why Web APIs?\n",
    "\n",
    "- Your program can interact with the world\n",
    "- Data from more than just files on the computer\n",
    "  - Updated datasets\n",
    "  - Industrial sensors\n",
    "- Effects and outcomes on real-world objects\n",
    "  - Smart home control\n",
    "  - Mobile notifications\n",
    "\n",
    "## The RESTful Web API\n",
    "- The RESTful Web APIs are a quasi-standard method of performing actions using or exchanging data with web-connected services\n",
    "  - e.g. Retrieve list of repositories from GitHub\n",
    "  - e.g. Using GPT-4 to process datasets automatically\n",
    "  - e.g. Starting and stopping a container hosted on Microsoft Azure\n",
    "- REST: “Representational State Transfer”\n",
    "  - Uses HTTP requests: GET, POST, (PUT), (DELETE)\n",
    "  - Generally, returns data in machine-readable formats like JSON\n",
    "- Uniform interface\n",
    "  - Every entity (piece of data) is generally retrieved from the same URI\n",
    "- Client-server decoupling\n",
    "  - The web interface is assumed to be the only link between the client and the server\n",
    "  - Data isn’t getting passed through a separate channel (e.g. file on hard drive)\n",
    "- Statelessness\n",
    "  - All required information is included in the request\n",
    "  - Identity is established on every request (usually via a secret token)\n",
    "\n",
    "## Exercise 2\n",
    "Read the API document [here](https://open-meteo.com/en/docs)(scrol down to API Documentation), and play around with the code again, and answer the following questions:"
   ]
  },
  {
   "cell_type": "code",
   "execution_count": 3,
   "metadata": {},
   "outputs": [
    {
     "name": "stdout",
     "output_type": "stream",
     "text": [
      "{'latitude': 35.7, 'longitude': 139.625, 'generationtime_ms': 0.029921531677246094, 'utc_offset_seconds': 0, 'timezone': 'GMT', 'timezone_abbreviation': 'GMT', 'elevation': 37.0, 'current_units': {'time': 'iso8601', 'interval': 'seconds', 'temperature_2m': '°C'}, 'current': {'time': '2024-05-28T16:15', 'interval': 900, 'temperature_2m': 22.8}}\n"
     ]
    }
   ],
   "source": [
    "# 1. What is the current temperature in Tokyo, Japan?\n",
    "# Play with this code again!\n",
    "\n",
    "import requests\n",
    "\n",
    "url = \"https://api.open-meteo.com/v1/forecast\"\n",
    "params = {\n",
    "  \"latitude\": 35.6764,\n",
    "  \"longitude\": 139.6500,\n",
    "  \"current\": \"temperature_2m\"\n",
    "}\n",
    "data = requests.get(url, params).json()\n",
    "\n",
    "print(data)"
   ]
  },
  {
   "cell_type": "code",
   "execution_count": 14,
   "metadata": {},
   "outputs": [
    {
     "name": "stdout",
     "output_type": "stream",
     "text": [
      "{'latitude': 35.7, 'longitude': 139.625, 'generationtime_ms': 0.06198883056640625, 'utc_offset_seconds': 0, 'timezone': 'GMT', 'timezone_abbreviation': 'GMT', 'elevation': 37.0, 'hourly_units': {'time': 'iso8601', 'weather_code': 'wmo code'}, 'hourly': {'time': ['2024-05-28T00:00', '2024-05-28T01:00', '2024-05-28T02:00', '2024-05-28T03:00', '2024-05-28T04:00', '2024-05-28T05:00', '2024-05-28T06:00', '2024-05-28T07:00', '2024-05-28T08:00', '2024-05-28T09:00', '2024-05-28T10:00', '2024-05-28T11:00', '2024-05-28T12:00', '2024-05-28T13:00', '2024-05-28T14:00', '2024-05-28T15:00', '2024-05-28T16:00', '2024-05-28T17:00', '2024-05-28T18:00', '2024-05-28T19:00', '2024-05-28T20:00', '2024-05-28T21:00', '2024-05-28T22:00', '2024-05-28T23:00', '2024-05-29T00:00', '2024-05-29T01:00', '2024-05-29T02:00', '2024-05-29T03:00', '2024-05-29T04:00', '2024-05-29T05:00', '2024-05-29T06:00', '2024-05-29T07:00', '2024-05-29T08:00', '2024-05-29T09:00', '2024-05-29T10:00', '2024-05-29T11:00', '2024-05-29T12:00', '2024-05-29T13:00', '2024-05-29T14:00', '2024-05-29T15:00', '2024-05-29T16:00', '2024-05-29T17:00', '2024-05-29T18:00', '2024-05-29T19:00', '2024-05-29T20:00', '2024-05-29T21:00', '2024-05-29T22:00', '2024-05-29T23:00', '2024-05-30T00:00', '2024-05-30T01:00', '2024-05-30T02:00', '2024-05-30T03:00', '2024-05-30T04:00', '2024-05-30T05:00', '2024-05-30T06:00', '2024-05-30T07:00', '2024-05-30T08:00', '2024-05-30T09:00', '2024-05-30T10:00', '2024-05-30T11:00', '2024-05-30T12:00', '2024-05-30T13:00', '2024-05-30T14:00', '2024-05-30T15:00', '2024-05-30T16:00', '2024-05-30T17:00', '2024-05-30T18:00', '2024-05-30T19:00', '2024-05-30T20:00', '2024-05-30T21:00', '2024-05-30T22:00', '2024-05-30T23:00', '2024-05-31T00:00', '2024-05-31T01:00', '2024-05-31T02:00', '2024-05-31T03:00', '2024-05-31T04:00', '2024-05-31T05:00', '2024-05-31T06:00', '2024-05-31T07:00', '2024-05-31T08:00', '2024-05-31T09:00', '2024-05-31T10:00', '2024-05-31T11:00', '2024-05-31T12:00', '2024-05-31T13:00', '2024-05-31T14:00', '2024-05-31T15:00', '2024-05-31T16:00', '2024-05-31T17:00', '2024-05-31T18:00', '2024-05-31T19:00', '2024-05-31T20:00', '2024-05-31T21:00', '2024-05-31T22:00', '2024-05-31T23:00', '2024-06-01T00:00', '2024-06-01T01:00', '2024-06-01T02:00', '2024-06-01T03:00', '2024-06-01T04:00', '2024-06-01T05:00', '2024-06-01T06:00', '2024-06-01T07:00', '2024-06-01T08:00', '2024-06-01T09:00', '2024-06-01T10:00', '2024-06-01T11:00', '2024-06-01T12:00', '2024-06-01T13:00', '2024-06-01T14:00', '2024-06-01T15:00', '2024-06-01T16:00', '2024-06-01T17:00', '2024-06-01T18:00', '2024-06-01T19:00', '2024-06-01T20:00', '2024-06-01T21:00', '2024-06-01T22:00', '2024-06-01T23:00', '2024-06-02T00:00', '2024-06-02T01:00', '2024-06-02T02:00', '2024-06-02T03:00', '2024-06-02T04:00', '2024-06-02T05:00', '2024-06-02T06:00', '2024-06-02T07:00', '2024-06-02T08:00', '2024-06-02T09:00', '2024-06-02T10:00', '2024-06-02T11:00', '2024-06-02T12:00', '2024-06-02T13:00', '2024-06-02T14:00', '2024-06-02T15:00', '2024-06-02T16:00', '2024-06-02T17:00', '2024-06-02T18:00', '2024-06-02T19:00', '2024-06-02T20:00', '2024-06-02T21:00', '2024-06-02T22:00', '2024-06-02T23:00', '2024-06-03T00:00', '2024-06-03T01:00', '2024-06-03T02:00', '2024-06-03T03:00', '2024-06-03T04:00', '2024-06-03T05:00', '2024-06-03T06:00', '2024-06-03T07:00', '2024-06-03T08:00', '2024-06-03T09:00', '2024-06-03T10:00', '2024-06-03T11:00', '2024-06-03T12:00', '2024-06-03T13:00', '2024-06-03T14:00', '2024-06-03T15:00', '2024-06-03T16:00', '2024-06-03T17:00', '2024-06-03T18:00', '2024-06-03T19:00', '2024-06-03T20:00', '2024-06-03T21:00', '2024-06-03T22:00', '2024-06-03T23:00'], 'weather_code': [51, 53, 3, 2, 3, 51, 51, 53, 63, 53, 61, 63, 61, 61, 63, 53, 1, 2, 3, 2, 2, 2, 1, 2, 0, 0, 0, 1, 0, 0, 0, 0, 0, 0, 0, 0, 0, 0, 0, 0, 0, 0, 1, 0, 1, 0, 0, 0, 0, 2, 1, 1, 0, 0, 1, 1, 2, 2, 2, 3, 51, 51, 51, 51, 61, 55, 63, 63, 61, 53, 53, 53, 61, 61, 61, 63, 63, 61, 51, 61, 61, 3, 61, 3, 3, 61, 61, 61, 61, 61, 61, 61, 61, 61, 61, 61, 61, 3, 3, 3, 3, 3, 3, 3, 3, 3, 3, 3, 3, 3, 3, 3, 3, 3, 3, 3, 3, 3, 3, 3, 3, 3, 3, 3, 3, 3, 3, 80, 80, 80, 3, 3, 3, 3, 3, 3, 3, 3, 3, 3, 3, 3, 3, 3, 3, 3, 3, 3, 2, 2, 2, 3, 3, 3, 1, 1, 1, 2, 2, 2, 2, 2, 2, 2, 2, 2, 2, 2]}}\n"
     ]
    }
   ],
   "source": [
    "# 2. How would you include hourly weather code as part of the JSON response?\n",
    "# Play with this code again!\n",
    "\n",
    "import requests\n",
    "\n",
    "url = \"https://api.open-meteo.com/v1/forecast\"\n",
    "params = {\n",
    "  \"latitude\": 35.6764,\n",
    "  \"longitude\": 139.6500,\n",
    "  \"hourly\": \"weather_code\"\n",
    "}\n",
    "data = requests.get(url, params).json()\n",
    "\n",
    "print(data)"
   ]
  },
  {
   "cell_type": "code",
   "execution_count": 15,
   "metadata": {},
   "outputs": [
    {
     "name": "stdout",
     "output_type": "stream",
     "text": [
      "{'latitude': 35.7, 'longitude': 139.625, 'generationtime_ms': 0.025033950805664062, 'utc_offset_seconds': 0, 'timezone': 'GMT', 'timezone_abbreviation': 'GMT', 'elevation': 37.0, 'current_units': {'time': 'iso8601', 'interval': 'seconds', 'weather_code': 'wmo code'}, 'current': {'time': '2024-05-28T16:30', 'interval': 900, 'weather_code': 2}}\n"
     ]
    }
   ],
   "source": [
    "# 3. How about getting the current weather code only?\n",
    "# Play with this code again!\n",
    "\n",
    "import requests\n",
    "\n",
    "url = \"https://api.open-meteo.com/v1/forecast\"\n",
    "params = {\n",
    "  \"latitude\": 35.6764,\n",
    "  \"longitude\": 139.6500,\n",
    "  \"current\": \"weather_code\"\n",
    "}\n",
    "data = requests.get(url, params).json()\n",
    "\n",
    "print(data)"
   ]
  }
 ],
 "metadata": {
  "kernelspec": {
   "display_name": "Python 3",
   "language": "python",
   "name": "python3"
  },
  "language_info": {
   "codemirror_mode": {
    "name": "ipython",
    "version": 3
   },
   "file_extension": ".py",
   "mimetype": "text/x-python",
   "name": "python",
   "nbconvert_exporter": "python",
   "pygments_lexer": "ipython3",
   "version": "3.9.15"
  }
 },
 "nbformat": 4,
 "nbformat_minor": 2
}
